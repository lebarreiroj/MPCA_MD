{
 "cells": [
  {
   "cell_type": "markdown",
   "id": "3b2d2edd-4f74-4f03-81d3-20bf5efe2a68",
   "metadata": {},
   "source": [
    "# Universidade de Brasília\n",
    "## Programa de Pós-Graduação em Computação Aplicada\n",
    "## Mestrato Profissional em Computação Aplicada\n",
    "### Mineração de Dados\n",
    "#### Professor: Marcelo Ladeira\n",
    "#### Alunos: \n",
    "##### 22000xxxx - Alisson Melo Rios\n",
    "##### 220005401 - Filipe Oliveira da Silva\n",
    "##### 220005559 - Luís Eduardo Barreiro de Jesus\n"
   ]
  },
  {
   "cell_type": "markdown",
   "id": "8836f1b0-51bc-4378-b0e3-5da023c5a992",
   "metadata": {},
   "source": [
    "## 1. PREPARAÇÃO DO AMBIENTE DE PROCESSAMENTO"
   ]
  },
  {
   "cell_type": "code",
   "execution_count": null,
   "id": "1734e340-37f2-43ac-a6de-56f94f63fe62",
   "metadata": {},
   "outputs": [],
   "source": [
    "# Preparação do Ambiente\n",
    "## Seção de bibliotecas\n",
    "import warnings\n",
    "warnings.filterwarnings(\"ignore\")\n",
    "\n",
    "import pandas as pd\n",
    "import numpy as np\n",
    "import matplotlib.pyplot as plt\n",
    "import plotly.express as px\n",
    "import datetime \n",
    "import folium\n",
    "from folium.plugins import HeatMap, HeatMapWithTime, MarkerCluster\n"
   ]
  },
  {
   "cell_type": "markdown",
   "id": "990a1c4b-8a6c-479e-a7d7-f4a449d0787b",
   "metadata": {},
   "source": [
    "## 3. ESTATÍSTICA DESCRITIVA - Acidentes"
   ]
  },
  {
   "cell_type": "markdown",
   "id": "ff7cbeaa-2354-4bbc-8bec-5195a204732b",
   "metadata": {},
   "source": [
    "### 3.1. Acidentes - Criar Dataframe\n",
    "\n",
    "Criar o Dataframe com os dados de acidentes"
   ]
  },
  {
   "cell_type": "code",
   "execution_count": null,
   "id": "db68593b-bf76-4ca2-bef4-bfe7641f86b4",
   "metadata": {},
   "outputs": [],
   "source": [
    "###\n",
    "# Carga do arquivo gerado pelo processo de tratamento de dados\n",
    "###\n",
    "dftc = pd.read_csv(\"csv_tudo.csv\", decimal=\".\", dtype={'anomes_nr': 'str'}, sep=\",\", encoding='Latin1') \n",
    "dftc = dftc.drop(columns=['Unnamed: 0'])"
   ]
  },
  {
   "cell_type": "markdown",
   "id": "557f12b2-86e0-42eb-8652-0489803afc48",
   "metadata": {},
   "source": [
    "### 3.2. Quantitativo de Acidentes\n",
    "\n",
    "#### 3.2.1 Acidentes x Classificação do Acidente\n"
   ]
  },
  {
   "cell_type": "markdown",
   "id": "97d80d47-32f4-42a3-aabf-e6ee9b13a4af",
   "metadata": {},
   "source": [
    "# ANTES DA CONCESSÃO"
   ]
  },
  {
   "cell_type": "code",
   "execution_count": null,
   "id": "247c30c8-376b-442b-be44-892dff66a19a",
   "metadata": {},
   "outputs": [],
   "source": [
    "dfa = dftc[(dftc['pos_concessao']==0)&((dftc['classificacao_acidente']!='SEM VÍTIMAS') & (dftc['classificacao_acidente']!='IGNORADO'))].groupby(['anomes_nr']).agg({'id':'count', 'ilesos':'mean', 'feridos_leves':'mean', 'feridos_graves':'mean', 'mortos':'mean'})\n",
    "dfa"
   ]
  },
  {
   "cell_type": "code",
   "execution_count": null,
   "id": "48713c1a-53c2-4da8-9e97-93bc793fa921",
   "metadata": {},
   "outputs": [],
   "source": [
    "dfa.describe()"
   ]
  },
  {
   "cell_type": "code",
   "execution_count": null,
   "id": "18df00a9-85f8-4a18-9755-4b81e80b06d5",
   "metadata": {},
   "outputs": [],
   "source": [
    "## ANTES DA CONCESSÃO - TODO O TRECHO CONCEDIDO\n",
    "# Somente acidentes com vítimas**\n",
    "def _selecao_dados(df, secao):\n",
    "    \n",
    "    if secao  == 0:\n",
    "        v_msg = 'ANÁLISE DESCRITIVA DE TODO O TRECHO CONCEDIDO'\n",
    "        # dados de antes da concessão\n",
    "        dfa = df[(dftc['pos_concessao']==0)&((df['classificacao_acidente']!='SEM VÍTIMAS') & (df['classificacao_acidente']!='IGNORADO'))].groupby(['anomes_nr']).agg({'id':'count', 'ilesos':'mean', 'feridos_leves':'mean', 'feridos_graves':'mean', 'mortos':'mean'})\n",
    "        # dados de depois da concessão\n",
    "        dfd = df[(dftc['pos_concessao']==1)&((df['classificacao_acidente']!='SEM VÍTIMAS') & (df['classificacao_acidente']!='IGNORADO'))].groupby(['anomes_nr']).agg({'id':'count', 'ilesos':'mean', 'feridos_leves':'mean', 'feridos_graves':'mean', 'mortos':'mean'})\n",
    "    else:\n",
    "        v_msg = 'ANÁLISE DESCRITIVA - DA SEÇÃO : %s ' %  secao  \n",
    "        # dados de antes da concessão\n",
    "        dfa = df[(dftc['secao']==secao)&(dftc['pos_concessao']==0)&((df['classificacao_acidente']!='SEM VÍTIMAS') & (df['classificacao_acidente']!='IGNORADO'))].groupby(['anomes_nr']).agg({'id':'count', 'ilesos':'mean', 'feridos_leves':'mean', 'feridos_graves':'mean', 'mortos':'mean'})\n",
    "        # dados de depois da concessão\n",
    "        dfd = df[(dftc['secao']==secao)&(dftc['pos_concessao']==1)&((df['classificacao_acidente']!='SEM VÍTIMAS') & (df['classificacao_acidente']!='IGNORADO'))].groupby(['anomes_nr']).agg({'id':'count', 'ilesos':'mean', 'feridos_leves':'mean', 'feridos_graves':'mean', 'mortos':'mean'})\n",
    "\n",
    "    print(v_msg)\n",
    "        \n",
    "    return dfa, dfd\n",
    "\n",
    "\n",
    "def _prints_estatisticas(dfapre, dfapos):\n",
    "\n",
    "    \n",
    "    print('A média de mortes por acidentes pré concessão : %.4f' % dfapre.describe().mortos['mean'])\n",
    "    print('A média de mortes por acidentes pos concessão : %.4f' % dfapos.describe().mortos['mean'])\n",
    "    print('A diferença é : %.4f' % ((dfapos.describe().mortos['mean'].astype('float') / dfapre.describe().mortos['mean'].astype('float')) - 1))\n",
    "\n",
    "    print('A média de feridos_graves por acidentes pré concessão : %.4f' % dfapre.describe().feridos_graves['mean'])\n",
    "    print('A média de feridos_graves por acidentes pós concessão : %.4f' % dfapos.describe().feridos_graves['mean'])\n",
    "    print('A diferença é : %.4f' % ((dfapos.describe().feridos_graves['mean'].astype('float') / dfapre.describe().feridos_graves['mean'].astype('float')) - 1))\n",
    "\n",
    "    print('A média de feridos_leves por acidentes pré concessão : %.4f' % dfapre.describe().feridos_leves['mean'])\n",
    "    print('A média de feridos_leves por acidentes pós concessão : %.4f' % dfapos.describe().feridos_leves['mean'])\n",
    "    print('A diferença é : %.4f' % ((dfapos.describe().feridos_leves['mean'].astype('float') / dfapre.describe().feridos_leves['mean'].astype('float')) - 1))\n",
    "\n",
    "    print('A média de acidentes por acidentes pré concessão: %.4f' % dfapre.describe().ilesos['mean'])\n",
    "    print('A média de acidentes por acidentes pós concessão: %.4f' % dfapos.describe().ilesos['mean'])\n",
    "    print('A diferença é : %.4f' % ((dfapos.describe().ilesos['mean'].astype('float') / dfapre.describe().ilesos['mean'].astype('float')) - 1))\n",
    "\n",
    "    print('A média de acidentes por mês pré concessão : %.4f' % dfapre.describe().id['mean'])\n",
    "    print('A média de acidentes por mês pos concessão : %.4f' % dfapos.describe().id['mean'])\n",
    "    print('A diferença é : %.4f' % ((dfapos.describe().id['mean'].astype('float') / dfapre.describe().id['mean'].astype('float')) - 1))\n",
    "    "
   ]
  },
  {
   "cell_type": "code",
   "execution_count": null,
   "id": "92cce36f-940f-45bc-ab78-e147bb5d4d39",
   "metadata": {},
   "outputs": [],
   "source": [
    "dfa, dfd = _selecao_dados(dftc, 0)\n",
    "_prints_estatisticas(dfa, dfd)"
   ]
  },
  {
   "cell_type": "code",
   "execution_count": null,
   "id": "b0bf9002-e353-4493-b33a-36e51dc5d373",
   "metadata": {},
   "outputs": [],
   "source": [
    "dfa, dfd = _selecao_dados(dftc, 2)\n",
    "_prints_estatisticas(dfa, dfd)"
   ]
  },
  {
   "cell_type": "code",
   "execution_count": null,
   "id": "effe009f-09e4-4cdb-9658-ce843a7d077c",
   "metadata": {},
   "outputs": [],
   "source": [
    "dfa, dfd = _selecao_dados(dftc, 3)\n",
    "_prints_estatisticas(dfa, dfd)"
   ]
  },
  {
   "cell_type": "code",
   "execution_count": null,
   "id": "711e8472-fb9e-4a3f-b8b0-f0bcd03af42f",
   "metadata": {},
   "outputs": [],
   "source": [
    "import warnings\n",
    "warnings.filterwarnings(\"ignore\")"
   ]
  },
  {
   "cell_type": "code",
   "execution_count": null,
   "id": "b02addd4-dc12-416c-a4d9-969bcc14c2b3",
   "metadata": {
    "tags": []
   },
   "outputs": [],
   "source": [
    "def _get_acidentes_trechos_duplicados(dfacid, secao, pos_concessao):\n",
    "   \n",
    "    if secao == 5: # código para toda a série histórica | não considera pré ou pós concessão\n",
    "        #dfa = dfacid.groupby(['anomes_nr','classificacao_acidente']).agg({'id':'count', 'ilesos':'sum', 'feridos_leves':'sum', 'feridos_graves':'sum', 'mortos':'sum'})\n",
    "        dfa = dfacid[(dfacid['trecho_duplicado']==1)].groupby(['anomes_nr','classificacao_acidente']).agg({'id':'count', 'ilesos':'mean', 'feridos_leves':'mean', 'feridos_graves':'mean', 'mortos':'mean'})\n",
    "    else: \n",
    "        dfa = dfacid[(dfacid['trecho_duplicado']==1)&(dfacid['secao']==secao)&(dfacid['pos_concessao']==pos_concessao)&((dfacid['classificacao_acidente']!='SEM VÍTIMAS') & (dfacid['classificacao_acidente']!='IGNORADO'))&(dfacid['trecho_duplicado']==1)].groupby(['anomes_nr','classificacao_acidente']).agg({'id':'count', 'ilesos':'sum', 'feridos_leves':'sum', 'feridos_graves':'sum', 'mortos':'sum'})\n",
    "    #dfa = dfacid.groupby(['anomes_nr','classificacao_acidente']).agg({'id':'count', 'ilesos':'sum', 'feridos_leves':'sum', 'feridos_graves':'sum', 'mortos':'sum'})\n",
    "    dfa = pd.pivot_table(dfa, values='id', index=['anomes_nr'],\n",
    "                         columns=['classificacao_acidente'], aggfunc=np.sum)\n",
    "    #dfa.reset_index(inplace=True)\n",
    "    dfa.reset_index(inplace=True)\n",
    "    dfa.fillna(0, inplace=True)\n",
    "    return dfa\n",
    "\n",
    "\n",
    "\n",
    "def _get_acidentes(dfacid, secao, pos_concessao):\n",
    "    # ++++++++++++++++++++++++++++++++++++++++++++++++++++++++++++++++\n",
    "    # Quantitativo de acidentes por classificação de acidente\n",
    "    # ++++++++++++++++++++++++++++++++++++++++++++++++++++++++++++++++\n",
    "    \n",
    "    if secao == 5: # código para toda a série histórica | não considera pré ou pós concessão\n",
    "        #dfa = dfacid.groupby(['anomes_nr','classificacao_acidente']).agg({'id':'count', 'ilesos':'sum', 'feridos_leves':'sum', 'feridos_graves':'sum', 'mortos':'sum'})\n",
    "        dfa = dfacid.groupby(['anomes_nr','classificacao_acidente']).agg({'id':'count', 'ilesos':'mean', 'feridos_leves':'mean', 'feridos_graves':'mean', 'mortos':'mean'})\n",
    "    else: \n",
    "        dfa = dfacid[(dfacid['secao']==secao)&(dfacid['pos_concessao']==pos_concessao)&((dfacid['classificacao_acidente']!='SEM VÍTIMAS') & (dfacid['classificacao_acidente']!='IGNORADO'))].groupby(['anomes_nr','classificacao_acidente']).agg({'id':'count', 'ilesos':'sum', 'feridos_leves':'sum', 'feridos_graves':'sum', 'mortos':'sum'})\n",
    "    #dfa = dfacid.groupby(['anomes_nr','classificacao_acidente']).agg({'id':'count', 'ilesos':'sum', 'feridos_leves':'sum', 'feridos_graves':'sum', 'mortos':'sum'})\n",
    "    dfa = pd.pivot_table(dfa, values='id', index=['anomes_nr'],\n",
    "                         columns=['classificacao_acidente'], aggfunc=np.sum)\n",
    "    #dfa.reset_index(inplace=True)\n",
    "    dfa.reset_index(inplace=True)\n",
    "    dfa.fillna(0, inplace=True)\n",
    "    return dfa\n",
    "\n",
    "\n",
    "def _plot_line_graf(dfa, secao, pos_concessao):\n",
    "    # ++++++++++++++++++++++++++++++++++++++++++++++++++++++++++++++++\n",
    "    # Quantitativo de acidentes por classificação de acidente\n",
    "    # ++++++++++++++++++++++++++++++++++++++++++++++++++++++++++++++++\n",
    "    if pos_concessao == 0:\n",
    "        tit = 'Pré concessão'\n",
    "    elif pos_concessao == 1:\n",
    "        tit = 'Pós concessão'        \n",
    "    else:\n",
    "        tit = 'Toda a série'\n",
    "    \n",
    "    titulo = f'Acidentes na Seção {secao} - {tit}'\n",
    "    \n",
    "    figura = px.line(title = titulo, width=1100, height=400)\n",
    "    for i in dfa.columns[1:]:\n",
    "        figura.add_scatter(x = dfa[\"anomes_nr\"] ,y = dfa[i], name = i)\n",
    "        #figura.add_scatter(x = table[\"anomes_nr\"] ,y = table[i], name = i)\n",
    "    figura.show()\n",
    "    \n",
    "    dfa.rename(columns={'COM VÍTIMAS FATAIS':'COM_VÍTIMAS_FATAIS', 'COM VÍTIMAS FERIDAS':'COM_VÍTIMAS_FERIDAS'}, inplace=True)\n",
    "               \n",
    "    return dfa\n",
    "\n",
    "def _plot_heatmap(dfacid, secao, pos_concessao, tipo_mapa):\n",
    "   \n",
    "    ### \n",
    "    # Filtro para plot\n",
    "    dfa = dfacid[(dfacid['secao']==secao)&(dfacid['pos_concessao']==pos_concessao)&((dfacid['classificacao_acidente']!='SEM VÍTIMAS') & (dfacid['classificacao_acidente']!='IGNORADO'))]\n",
    "    ###\n",
    "    # criar lista de ano_mes únicos\n",
    "    lista_index = dfa.ano_mes.unique()\n",
    "\n",
    "    #print(lista_index)\n",
    "\n",
    "    lista_idx = []\n",
    "    for i in lista_index:\n",
    "        lista_idx.append(i)\n",
    "\n",
    "    #print(lista_idx)\n",
    "    # -------------------------------------------\n",
    "\n",
    "    # criar a weight list\n",
    "    weight_list = []\n",
    "    dfa['conta'] = 1\n",
    "    for x in dfa['ano_mes'].sort_values().unique():\n",
    "        weight_list.append(dfa.loc[dfa['ano_mes'] == x, [\"latitude\", \"longitude\", \"conta\"]].groupby([\"latitude\", \"longitude\"]).sum().reset_index().values.tolist()) \n",
    "\n",
    "    # -------------------------------------------\n",
    "\n",
    "    # criar o mapa base\n",
    "    my_map = folium.Map(\n",
    "                    location=(\n",
    "                                (dfa.latitude.mean()),\n",
    "                                (dfa.longitude.mean())\n",
    "                            ),\n",
    "                    zoom_start=6\n",
    "                )\n",
    "\n",
    "    #folium.LayerControl().add_to(my_map)\n",
    "    folium.TileLayer('stamentoner').add_to(my_map)\n",
    "\n",
    "    # criar o mapa de calor de acidentes\n",
    "    HeatMapWithTime(weight_list, radius=10, index=lista_idx,\n",
    "                    gradient={0.1: 'blue', 0.25: 'yellow', 0.75:'orange', 1:'red'},\n",
    "                    auto_play=True, min_opacity=0.5, max_opacity=1, use_local_extrema=True).add_to(my_map)\n",
    "\n",
    "    return my_map\n",
    "\n",
    "\n",
    "def _plot_heatmap2(dfacid, secao, pos_concessao, tipo_mapa):\n",
    "   \n",
    "    ### \n",
    "    # Filtro para plot\n",
    "    if secao == 5:  # todo o trecho\n",
    "        dfa = dfacid[(dfacid['classificacao_acidente']=='COM VÍTIMAS FATAIS')&((dfacid['km']!=511)&(dfacid['km']!=515))].groupby([\"latitude\", \"longitude\"]).agg({'id':'count'})\n",
    "        \n",
    "    else:\n",
    "        dfa = dfacid[(dfacid['secao']==secao)&(dfacid['pos_concessao']==pos_concessao)&(dfacid['classificacao_acidente']=='COM VÍTIMAS FATAIS')&((dfacid['km']!=511)&(dfacid['km']!=515))].groupby([\"latitude\", \"longitude\"]).agg({'id':'count'})\n",
    "    \n",
    "    dfa.reset_index(inplace=True)\n",
    "    dfa = dfa.dropna()\n",
    "        \n",
    "    # criar o mapa base\n",
    "    my_map2 = folium.Map(\n",
    "                    location=(\n",
    "                                (dfa.latitude.mean()),\n",
    "                                (dfa.longitude.mean())\n",
    "                            ),\n",
    "                    zoom_start=6\n",
    "                )\n",
    "    folium.TileLayer('stamentoner').add_to(my_map2)\n",
    "    HeatMap(dfa).add_to(my_map2)\n",
    "    return my_map2\n",
    "\n",
    "\n",
    "def _plot_cluster_map(dfacid, secao, pos_concessao, tipo_mapa):\n",
    "\n",
    "    from folium.plugins import MarkerCluster\n",
    "\n",
    "    if secao == 5:\n",
    "        dfa = dfacid[((dfacid['classificacao_acidente']=='COM VÍTIMAS FATAIS')&((dfacid['km']!=511)&(dfacid['km']!=515)))]\n",
    "    else:\n",
    "        dfa = dfacid[(dfacid['secao']==secao)&(dfacid['pos_concessao']==pos_concessao)&((dfacid['classificacao_acidente']=='COM VÍTIMAS FATAIS')&((dfacid['km']!=511)&(dfacid['km']!=515)))]\n",
    "    \n",
    "    dfa = dfa.dropna()\n",
    "    \n",
    "    m = folium.Map(\n",
    "                    location=(\n",
    "                                (dfa.latitude.mean()),\n",
    "                                (dfa.longitude.mean())\n",
    "                            ),\n",
    "                    zoom_start=6\n",
    "                )\n",
    "    \n",
    "    marker_cluster = MarkerCluster().add_to(m)\n",
    "\n",
    "    for index, row in dfa.iterrows():\n",
    "            #print(row['c1'], row['c2']):\n",
    "        \n",
    "        folium.Marker(\n",
    "            location=[row['latitude'], row['longitude']],\n",
    "            popup= f\"Acidente fatal: Ano_mes=%s, id=%s, latitude=%s, longitude=%s, UF=%s, KM=%s\" % (row['ano_mes'],row['id'],row['latitude'], row['longitude'], row['uf'], row['km']),\n",
    "            icon=folium.Icon(color=\"green\", icon=\"ok-sign\"),\n",
    "            ).add_to(marker_cluster)\n",
    "        '''\n",
    "        folium.Marker(\n",
    "            location=[44.67, -73.94],\n",
    "            popup=\"Add popup text here.\",\n",
    "            icon=folium.Icon(color=\"red\", icon=\"remove-sign\"),\n",
    "        ).add_to(marker_cluster)\n",
    "\n",
    "        folium.Marker(\n",
    "            location=[44.67, -71.94],\n",
    "            popup=\"Add popup text here.\",\n",
    "            icon=None,\n",
    "        ).add_to(marker_cluster)\n",
    "        '''\n",
    "    return m"
   ]
  },
  {
   "cell_type": "code",
   "execution_count": null,
   "id": "ef380fe6-06c2-4170-8421-ec7b7282c42c",
   "metadata": {},
   "outputs": [],
   "source": [
    "# Seções - 1 (DF até Cristalina) | 2 (Cristalina até Curvelo) | 3 (Curvelo até Juiz de Fora) | 5 TODA A SÉRIE HISTÓRICA\n",
    "# Pos Concessão - 0 (antes da concessão -> até junho de 2014) | 1 (a partir de julho de 2014)\n",
    "\n",
    "secao = 5\n",
    "pos_concessao = 0\n",
    "dfa = _plot_line_graf(_get_acidentes(dftc,secao,pos_concessao), secao,pos_concessao)\n",
    "\n",
    "print('A média de mensal de acidente com Vítimas Fatais : %.4f' % dfa.describe().COM_VÍTIMAS_FATAIS['mean'])\n",
    "print('A média de mensal de acidente com Vítimas Feridas : %.4f' % dfa.describe().COM_VÍTIMAS_FERIDAS['mean'])\n",
    "\n",
    "#dfa.describe() \n"
   ]
  },
  {
   "cell_type": "code",
   "execution_count": null,
   "id": "d3f125ae-11d2-4a81-87ab-441539d20a5c",
   "metadata": {},
   "outputs": [],
   "source": [
    "# Seções - 1 (DF até Cristalina) | 2 (Cristalina até Curvelo) | 3 (Curvelo até Juiz de Fora) | 5 TODA A SÉRIE HISTÓRICA\n",
    "# Pos Concessão - 0 (antes da concessão -> até junho de 2014) | 1 (a partir de julho de 2014)\n",
    "\n",
    "secao = 5\n",
    "pos_concessao = 1\n",
    "dfa = _plot_line_graf(_get_acidentes(dftc,secao,pos_concessao), secao,pos_concessao)\n",
    "print('A média de mensal de acidente com Vítimas Fatais : %.4f' % dfa.describe().COM_VÍTIMAS_FATAIS['mean'])\n",
    "print('A média de mensal de acidente com Vítimas Feridas : %.4f' % dfa.describe().COM_VÍTIMAS_FERIDAS['mean'])\n",
    "\n"
   ]
  },
  {
   "cell_type": "markdown",
   "id": "caaba8c8-60b6-4153-9762-685a1c597756",
   "metadata": {},
   "source": [
    "# ACHADO\n",
    "\n",
    "Como houve uma grande redução da quantidade dos registros de acidentes classificados como \"Sem Vítimas\" a partir de 2014, este estudo vai desconsiderar os registros. Portanto, o estudo vai considerar somente os registros de acidentes classificados como \"Com Vítimas Feridas\" e \"Com Vítimas Fatais\".\n"
   ]
  },
  {
   "cell_type": "markdown",
   "id": "b1b9cbaa-b9fe-4c5e-86a8-7738c228a173",
   "metadata": {},
   "source": [
    "\n",
    "##### 3.2.1.1. Acidentes na Seção 1 - Antes da Concessão\n"
   ]
  },
  {
   "cell_type": "code",
   "execution_count": null,
   "id": "4ba8632a-ccb9-4c60-a1cb-fb5d59ec2107",
   "metadata": {},
   "outputs": [],
   "source": [
    "# Seções - 1 (DF até Cristalina) | 2 (Cristalina até Curvelo) | 3 (Curvelo até Juiz de Fora)\n",
    "# Pos Concessão - 0 (antes da concessão -> até junho de 2014) | 1 (a partir de julho de 2014)\n",
    "\n",
    "secao = 1\n",
    "pos_concessao = 0\n",
    "dfa = _plot_line_graf(_get_acidentes(dftc,secao,pos_concessao), secao,pos_concessao)\n",
    "print('A média de mensal de acidente com Vítimas Fatais : %.4f' % dfa.describe().COM_VÍTIMAS_FATAIS['mean'])\n",
    "print('A média de mensal de acidente com Vítimas Feridas : %.4f' % dfa.describe().COM_VÍTIMAS_FERIDAS['mean'])\n",
    "\n"
   ]
  },
  {
   "cell_type": "code",
   "execution_count": null,
   "id": "4275ec5d-532e-4c0c-85cd-3371970869ac",
   "metadata": {},
   "outputs": [],
   "source": [
    "# Seções - 1 (DF até Cristalina) | 2 (Cristalina até Curvelo) | 3 (Curvelo até Juiz de Fora)\n",
    "# Pos Concessão - 0 (antes da concessão -> até junho de 2014) | 1 (a partir de julho de 2014)\n",
    "\n",
    "secao = 1\n",
    "pos_concessao = 1\n",
    "dfa = _plot_line_graf(_get_acidentes(dftc,secao,pos_concessao), secao,pos_concessao)\n",
    "print('A média de mensal de acidente com Vítimas Fatais : %.4f' % dfa.describe().COM_VÍTIMAS_FATAIS['mean'])\n",
    "print('A média de mensal de acidente com Vítimas Feridas : %.4f' % dfa.describe().COM_VÍTIMAS_FERIDAS['mean'])\n"
   ]
  },
  {
   "cell_type": "code",
   "execution_count": null,
   "id": "78cdd495-5825-4914-8c3e-93ce06189cae",
   "metadata": {},
   "outputs": [],
   "source": [
    "# Seções - 1 (DF até Cristalina) | 2 (Cristalina até Curvelo) | 3 (Curvelo até Juiz de Fora)\n",
    "# Pos Concessão - 0 (antes da concessão -> até junho de 2014) | 1 (a partir de julho de 2014)\n",
    "\n",
    "secao = 2\n",
    "pos_concessao = 0\n",
    "dfa = _plot_line_graf(_get_acidentes(dftc,secao,pos_concessao), secao,pos_concessao)\n",
    "print('A média de mensal de acidente com Vítimas Fatais : %.4f' % dfa.describe().COM_VÍTIMAS_FATAIS['mean'])\n",
    "print('A média de mensal de acidente com Vítimas Feridas : %.4f' % dfa.describe().COM_VÍTIMAS_FERIDAS['mean'])\n"
   ]
  },
  {
   "cell_type": "markdown",
   "id": "6a84eca7-d354-47ca-ab64-48daba13c0c3",
   "metadata": {},
   "source": [
    "##### 3.2.1.2. Acidentes na Seção 1 - Pós da Concessão"
   ]
  },
  {
   "cell_type": "code",
   "execution_count": null,
   "id": "f49bbcc7-bea2-4d75-a4d1-1a0267b75dfa",
   "metadata": {},
   "outputs": [],
   "source": [
    "# Seções - 1 (DF até Cristalina) | 2 (Cristalina até Curvelo) | 3 (Curvelo até Juiz de Fora)\n",
    "# Pos Concessão - 0 (antes da concessão -> até junho de 2014) | 1 (a partir de julho de 2014)\n",
    "\n",
    "secao = 2\n",
    "pos_concessao = 1\n",
    "dfa = _plot_line_graf(_get_acidentes(dftc,secao,pos_concessao), secao,pos_concessao)\n",
    "print('A média de mensal de acidente com Vítimas Fatais : %.4f' % dfa.describe().COM_VÍTIMAS_FATAIS['mean'])\n",
    "print('A média de mensal de acidente com Vítimas Feridas : %.4f' % dfa.describe().COM_VÍTIMAS_FERIDAS['mean'])\n"
   ]
  },
  {
   "cell_type": "code",
   "execution_count": null,
   "id": "e4f40749-e82a-4ebf-bd88-c809e4940bcd",
   "metadata": {},
   "outputs": [],
   "source": [
    "# Seções - 1 (DF até Cristalina) | 2 (Cristalina até Curvelo) | 3 (Curvelo até Juiz de Fora)\n",
    "# Pos Concessão - 0 (antes da concessão -> até junho de 2014) | 1 (a partir de julho de 2014)\n",
    "\n",
    "secao = 3\n",
    "pos_concessao = 0\n",
    "dfa = _plot_line_graf(_get_acidentes(dftc,secao,pos_concessao), secao,pos_concessao)\n",
    "print('A média de mensal de acidente com Vítimas Fatais : %.4f' % dfa.describe().COM_VÍTIMAS_FATAIS['mean'])\n",
    "print('A média de mensal de acidente com Vítimas Feridas : %.4f' % dfa.describe().COM_VÍTIMAS_FERIDAS['mean'])\n"
   ]
  },
  {
   "cell_type": "code",
   "execution_count": null,
   "id": "d68f4c5a-9cad-4740-8772-0d01cb069d36",
   "metadata": {},
   "outputs": [],
   "source": [
    "# Seções - 1 (DF até Cristalina) | 2 (Cristalina até Curvelo) | 3 (Curvelo até Juiz de Fora)\n",
    "# Pos Concessão - 0 (antes da concessão -> até junho de 2014) | 1 (a partir de julho de 2014)\n",
    "\n",
    "secao = 3\n",
    "pos_concessao = 1\n",
    "dfa = _plot_line_graf(_get_acidentes(dftc,secao,pos_concessao), secao,pos_concessao)\n",
    "print('A média de mensal de acidente com Vítimas Fatais : %.4f' % dfa.describe().COM_VÍTIMAS_FATAIS['mean'])\n",
    "print('A média de mensal de acidente com Vítimas Feridas : %.4f' % dfa.describe().COM_VÍTIMAS_FERIDAS['mean'])\n"
   ]
  },
  {
   "cell_type": "code",
   "execution_count": null,
   "id": "5e7f16f0-1c41-4075-be8b-f53cef379108",
   "metadata": {},
   "outputs": [],
   "source": [
    "dftc.isna().sum()"
   ]
  },
  {
   "cell_type": "code",
   "execution_count": null,
   "id": "f418c2c0-4203-431d-a54d-1bf222d048f1",
   "metadata": {},
   "outputs": [],
   "source": [
    "#_get_acidentes_trechos_duplicados\n",
    "\n",
    "# TRECHO DUPLICADO\n",
    "\n",
    "# Seções - 1 (DF até Cristalina) | 2 (Cristalina até Curvelo) | 3 (Curvelo até Juiz de Fora)\n",
    "# Pos Concessão - 0 (antes da concessão -> até junho de 2014) | 1 (a partir de julho de 2014)\n",
    "\n",
    "secao = 5\n",
    "pos_concessao = 1\n",
    "dfa = _plot_line_graf(_get_acidentes_trechos_duplicados(dftc,secao,pos_concessao), secao, pos_concessao)\n",
    "print('A média de mensal de acidente com Vítimas Fatais : %.4f' % dfa.describe().COM_VÍTIMAS_FATAIS['mean'])\n",
    "print('A média de mensal de acidente com Vítimas Feridas : %.4f' % dfa.describe().COM_VÍTIMAS_FERIDAS['mean'])\n",
    "#print('A média de mensal de acidente : %.4f' % dfa.describe().id['mean'])\n",
    "\n",
    "dfa.describe()\n"
   ]
  },
  {
   "cell_type": "markdown",
   "id": "fc3b0d2d-6fe5-4b76-a4b1-de4a910a514c",
   "metadata": {
    "tags": []
   },
   "source": [
    "# ACIDENTES - SHAP - CLASSIFICAÇÃO XGBOOST\n"
   ]
  },
  {
   "cell_type": "code",
   "execution_count": null,
   "id": "eba35bbc-15d3-4257-a7f6-009206840a57",
   "metadata": {},
   "outputs": [],
   "source": [
    "# importe do cross_val_score\n",
    "\n",
    "import statsmodels.api as sm\n",
    "import pandas as pd\n",
    "import numpy as np\n",
    "from sklearn.metrics import mean_squared_error, classification_report\n",
    "from sklearn.model_selection import train_test_split, cross_val_score\n",
    "import shap\n",
    "import category_encoders as ce\n",
    "import xgboost as xgb\n",
    "\n",
    "def _get_data2classifier(df, secao, concessao, tdup):\n",
    "    # ++++++++++++++++++++++++++++++++++++++++++++++++++++++++++++++++\n",
    "    # Prepara o DataFrame \n",
    "    # ++++++++++++++++++++++++++++++++++++++++++++++++++++++++++++++++\n",
    "\n",
    "    if tdup == True:\n",
    "        df = df[(df['trecho_duplicado']==1)&(df['pos_concessao']==concessao)&(df['classificacao_acidente']!='SEM VÍTIMAS')] #.groupby(['anomes_nr','classificacao_acidente']).agg({'id':'count', 'ilesos':'sum', 'feridos_leves':'sum', 'feridos_graves':'sum', 'mortos':'sum'})\n",
    "        print('Trecho duplicado')\n",
    "    else:\n",
    "        # Filtro no DataFrame para seção e concessão\n",
    "        df = df[(df['secao']==secao)&(df['pos_concessao']==concessao)&(df['classificacao_acidente']!='SEM VÍTIMAS')] #.groupby(['anomes_nr','classificacao_acidente']).agg({'id':'count', 'ilesos':'sum', 'feridos_leves':'sum', 'feridos_graves':'sum', 'mortos':'sum'})\n",
    "        print('Secao = %s e Pos_concessao = %s' % (secao, concessao))\n",
    "    # total\n",
    "    #df = dftc[(dftc['classificacao_acidente']!='SEM VÍTIMAS')] #.groupby(['anomes_nr','classificacao_acidente']).agg({'id':'count', 'ilesos':'sum', 'feridos_leves':'sum', 'feridos_graves':'sum', 'mortos':'sum'})\n",
    "\n",
    "    # Target - Acidentes Graves (mortos ou feridos graves)\n",
    "    #df['acidente_grave'] = df['acidente_grave'].map({'COM VÍTIMAS FERIDAS':0,'COM VÍTIMAS FATAIS':1,'IGNORADO':2, 'SEM VÍTIMAS':3})\n",
    "    df['acidente_grave'] = 0\n",
    "    df.loc[df['mortos'] > 0, 'acidente_grave'] = 1\n",
    "    df.loc[df['feridos_graves'] > 0, 'acidente_grave'] = 1\n",
    "\n",
    "    # target para acidentes com Vítimas graves e fatais = 1, e Vítimas leves = 0\n",
    "    df.dropna(inplace=True)\n",
    "\n",
    "    # map para o tipo de pista - nosso target\n",
    "    #df['tipo_pista'] = df['tipo_pista'].map({'DUPLA':1,'MÚLTIPLA':1,'SIMPLES':0, '(NULL)':0})\n",
    "\n",
    "    # Drop nas colunas que não serão usadas na análise\n",
    "    df = df.drop(columns=[ 'id',\n",
    "                           'data_inversa',\n",
    "                           'br',\n",
    "                           'latitude',                \n",
    "                           'longitude',\n",
    "                           'kmint',\n",
    "                           'ano',\n",
    "                           'ano_mes', \n",
    "                           'anomes_nr',\n",
    "                           'km',\n",
    "                           'hora',\n",
    "                           'mes',\n",
    "                           'municipio',\n",
    "                           'uso_solo',\n",
    "                           'secao',\n",
    "                           'pos_concessao',\n",
    "                           'minuto',\n",
    "                           'ilesos',\n",
    "                           'feridos_leves',\n",
    "                           'feridos_graves',\n",
    "                           'classificacao_acidente',\n",
    "                           'mortos'])\n",
    "\n",
    "    #df['anomes_nr'] = df['anomes_nr'].astype('int')\n",
    "\n",
    "    #xx = df\n",
    "    \n",
    "    # Preparação dos dados \n",
    "    df = pd.get_dummies(df)\n",
    "\n",
    "    # Filtro para pegar por tipo de acidente\n",
    "    #df = df[(df['acidente_grave']==1)&(df['tipo_acidente_ATROPELAMENTO DE PESSOA']>=1)] #.groupby(['anomes_nr','classificacao_acidente']).agg({'id':'count', 'ilesos':'sum', 'feridos_leves':'sum', 'feridos_graves':'sum', 'mortos':'sum'})\n",
    "\n",
    "    # Definição do X e y para o ML\n",
    "    X = df.drop(['acidente_grave'], axis=1)\n",
    "    y = df['acidente_grave']\n",
    "\n",
    "    # Split para o modelo\n",
    "    X_train, X_test, y_train, y_test = train_test_split(X, y, train_size=0.7, random_state=13)\n",
    "    # retornar os dados\n",
    "    return X_train, X_test, y_train, y_test\n",
    "    \n",
    "\n",
    "def _get_xgb_classificador(X_train, y_train):\n",
    "    classificador_xgb = xgb.XGBClassifier()\n",
    "    print('Classificador sem parâmetros = %.4f' % (100 * cross_val_score(classificador_xgb, X_train, y_train).mean()))\n",
    "    \n",
    "    classificador_xgb_tunado = xgb.XGBClassifier(max_depth=2)\n",
    "    print('Classificador com max_depth 2 = %.4f' % (100 * cross_val_score(classificador_xgb_tunado, X_train, y_train).mean()))\n",
    "    \n",
    "    classificador_xgb_dart = xgb.XGBClassifier(booster='dart')\n",
    "    print('Classificador com booster \"dart\" = %.4f' % (100 * cross_val_score(classificador_xgb_dart, X_train, y_train).mean()))\n",
    "\n",
    "    classificador_campeao = classificador_xgb_tunado\n",
    "    \n",
    "    return classificador_campeao\n",
    "\n",
    "    \n",
    "    "
   ]
  },
  {
   "cell_type": "code",
   "execution_count": null,
   "id": "38406de3-4363-46b3-9c06-5a0104577a47",
   "metadata": {},
   "outputs": [],
   "source": []
  },
  {
   "cell_type": "code",
   "execution_count": null,
   "id": "dfed6d7d-c649-451c-9d7e-a193dfe74987",
   "metadata": {},
   "outputs": [],
   "source": [
    "# Formata os dados para o modelo\n",
    "secao = 3\n",
    "pos_concessao = 1\n",
    "tdupl = False\n",
    "dfx, X_train, X_test, y_train, y_test = _get_data2classifier(dftc, secao, pos_concessao, tdupl)"
   ]
  },
  {
   "cell_type": "code",
   "execution_count": null,
   "id": "a0ad091e-4afa-4fff-9af7-c9e48347f062",
   "metadata": {},
   "outputs": [],
   "source": [
    "dfx.info()"
   ]
  },
  {
   "cell_type": "code",
   "execution_count": null,
   "id": "6e8e9f5e-53bb-4680-9576-4994f88ee7fe",
   "metadata": {},
   "outputs": [],
   "source": [
    "X_train.shape, X_test.shape, y_train.shape, y_test.shape"
   ]
  },
  {
   "cell_type": "code",
   "execution_count": null,
   "id": "f22601cb-2a79-420d-a8b0-edf0c99c1006",
   "metadata": {},
   "outputs": [],
   "source": [
    "classificador_campeao = _get_xgb_classificador(X_train, y_train)"
   ]
  },
  {
   "cell_type": "code",
   "execution_count": null,
   "id": "06397658-22db-4923-bb71-c75502d5ae9c",
   "metadata": {},
   "outputs": [],
   "source": [
    "model = classificador_campeao.fit(X_train, y_train)\n",
    "model "
   ]
  },
  {
   "cell_type": "code",
   "execution_count": null,
   "id": "e98d0cb0-c528-427b-82a4-8c80ed724a39",
   "metadata": {},
   "outputs": [],
   "source": [
    "y_pred_train_proba = classificador_campeao.predict_proba(X_train)\n",
    "print('Probabilidade do modelo prever acidentes não graves = ',(100*y_pred_train_proba[3][0]).round(2),'%.')\n",
    "print('Probabilidade do modelo prever acidentes graves = ',(100*y_pred_train_proba[3][1]).round(2),'%.')\n",
    "\n"
   ]
  },
  {
   "cell_type": "code",
   "execution_count": null,
   "id": "b0ca08bb-b71b-4184-9c89-27c1808372c6",
   "metadata": {},
   "outputs": [],
   "source": [
    "predict = classificador_campeao.predict(X_test)\n",
    "acuracia_teste = 100* (predict == y_test).sum() / len(y_test)\n",
    "print('No teste, o modelo acertou {:.2f}% das previsões na base de teste.'.format(acuracia_teste))"
   ]
  },
  {
   "cell_type": "code",
   "execution_count": null,
   "id": "bb033027-3bfe-4969-a418-dc75d1724851",
   "metadata": {},
   "outputs": [],
   "source": [
    "xgb.plot_importance(classificador_campeao, max_num_features=15)"
   ]
  },
  {
   "cell_type": "code",
   "execution_count": null,
   "id": "7007a712-650a-4178-87c6-d2a4e017032d",
   "metadata": {},
   "outputs": [],
   "source": [
    "# this takes a minute or two since we are explaining over 30 thousand samples in a model with over a thousand trees\n",
    "explainer = shap.TreeExplainer(model=classificador_campeao)\n",
    "shap_values = explainer.shap_values(X_train, y_train)"
   ]
  },
  {
   "cell_type": "code",
   "execution_count": null,
   "id": "495d9322-7d54-4090-9ea4-0ac19a45700b",
   "metadata": {},
   "outputs": [],
   "source": [
    "shap.summary_plot(shap_values, X_train, plot_type=\"bar\", plot_size=(15,8));"
   ]
  },
  {
   "cell_type": "code",
   "execution_count": null,
   "id": "2df0ff61-f56d-4ab7-bf99-b927b6aafa17",
   "metadata": {},
   "outputs": [],
   "source": [
    "shap.summary_plot(shap_values, X_train, plot_type=\"dot\", plot_size=(15,8))"
   ]
  },
  {
   "cell_type": "code",
   "execution_count": null,
   "id": "09ec03b9-c8ce-42d8-9566-ccbc9bd3c9ed",
   "metadata": {},
   "outputs": [],
   "source": [
    "#for name in X_train.columns:\n",
    "#    shap.dependence_plot(name, shap_values, X_train, display_features=X_train)"
   ]
  },
  {
   "cell_type": "markdown",
   "id": "4e514038-7f61-4766-a048-0019ac56a73b",
   "metadata": {},
   "source": [
    "# MAPAS"
   ]
  },
  {
   "cell_type": "code",
   "execution_count": null,
   "id": "52da7782-0138-486e-973e-4e82b7921b37",
   "metadata": {},
   "outputs": [],
   "source": [
    "## SEÇÃO 5 É TODO O TRECHO - TODO O PERÍODO - VÍTIMAS FATAIS SOMENTE\n",
    "m2 = _plot_heatmap2(dftc, 5, pos_concessao, 0)\n",
    "m2"
   ]
  },
  {
   "cell_type": "code",
   "execution_count": null,
   "id": "821223d4-0538-4c1a-8572-d3e81c432673",
   "metadata": {
    "tags": []
   },
   "outputs": [],
   "source": [
    "# plotar mapa de calor\n",
    "m = _plot_heatmap(dftc, secao, pos_concessao, 0)\n",
    "m"
   ]
  },
  {
   "cell_type": "code",
   "execution_count": null,
   "id": "bc4f6f35-b7e5-4a52-8429-45f8f35ee8e0",
   "metadata": {},
   "outputs": [],
   "source": [
    "m2 = _plot_cluster_map(dftc, 5, pos_concessao, 0)\n",
    "m2"
   ]
  },
  {
   "cell_type": "code",
   "execution_count": null,
   "id": "9a9ac1f9-1d57-4fd7-919a-6090e9642941",
   "metadata": {},
   "outputs": [],
   "source": [
    "# plotar mapa de calor\n",
    "m = _plot_heatmap(dftc, secao, pos_concessao, 0)\n",
    "m"
   ]
  },
  {
   "cell_type": "code",
   "execution_count": null,
   "id": "341a9f13-4a02-4142-aea9-f93759a80ac8",
   "metadata": {
    "tags": []
   },
   "outputs": [],
   "source": [
    "m2 = _plot_cluster_map(dftc, secao, pos_concessao, 0)\n",
    "m2\n"
   ]
  },
  {
   "cell_type": "code",
   "execution_count": null,
   "id": "aeac3caf-ff87-424c-a738-2a9c52c0a260",
   "metadata": {},
   "outputs": [],
   "source": [
    "# plotar mapa de calor\n",
    "m = _plot_heatmap(dftc, secao, pos_concessao, 0)\n",
    "m"
   ]
  },
  {
   "cell_type": "code",
   "execution_count": null,
   "id": "c7e41bd3-5baa-4e04-a268-4849e6a7d8bb",
   "metadata": {},
   "outputs": [],
   "source": [
    "m2 = _plot_cluster_map(dftc, secao, pos_concessao, 0)\n",
    "m2"
   ]
  },
  {
   "cell_type": "code",
   "execution_count": null,
   "id": "8bfe7711-348e-4c7a-a91c-49cedc72d0b4",
   "metadata": {},
   "outputs": [],
   "source": [
    "# plotar mapa de calor\n",
    "m = _plot_heatmap(dftc, secao, pos_concessao, 0)\n",
    "m"
   ]
  },
  {
   "cell_type": "code",
   "execution_count": null,
   "id": "2f900ce1-a2c3-495b-8c49-21d7bac4eb95",
   "metadata": {},
   "outputs": [],
   "source": [
    "m2 = _plot_cluster_map(dftc, secao, pos_concessao, 0)\n",
    "m2"
   ]
  },
  {
   "cell_type": "code",
   "execution_count": null,
   "id": "908c75c1-a913-4409-ba26-f0a948f5acfd",
   "metadata": {
    "tags": []
   },
   "outputs": [],
   "source": [
    "# plotar mapa de calor\n",
    "m = _plot_heatmap(dftc, secao, pos_concessao, 0)\n",
    "m"
   ]
  },
  {
   "cell_type": "code",
   "execution_count": null,
   "id": "574d898e-8012-40c5-b80c-815bada68f6a",
   "metadata": {},
   "outputs": [],
   "source": [
    "m2 = _plot_cluster_map(dftc, secao, pos_concessao, 0)\n",
    "m2"
   ]
  },
  {
   "cell_type": "code",
   "execution_count": null,
   "id": "c3638cda-ba59-4da8-b64a-5163c719ccf7",
   "metadata": {},
   "outputs": [],
   "source": [
    "# plotar mapa de calor\n",
    "m = _plot_heatmap(dftc, secao, pos_concessao, 0)\n",
    "m"
   ]
  },
  {
   "cell_type": "code",
   "execution_count": null,
   "id": "615bc6ae-f1ef-4349-9225-ce67cf38ac2e",
   "metadata": {},
   "outputs": [],
   "source": [
    "m2 = _plot_cluster_map(dftc, secao, pos_concessao, 0)\n",
    "m2"
   ]
  },
  {
   "cell_type": "markdown",
   "id": "bf4ea0e1-98b4-4b35-b177-0faed299571f",
   "metadata": {},
   "source": [
    "# TRECHO DUPLICADO"
   ]
  },
  {
   "cell_type": "code",
   "execution_count": null,
   "id": "68a7c5ac-2c19-4c80-b12a-bfda2b24433a",
   "metadata": {},
   "outputs": [],
   "source": [
    "XX = _get_acidentes_trechos_duplicados(dftc, 5, 0)"
   ]
  },
  {
   "cell_type": "code",
   "execution_count": null,
   "id": "a6415570-0812-4a9e-983b-2e7d3ca35dbb",
   "metadata": {},
   "outputs": [],
   "source": [
    "#XX.fillna(0, inplace=True)"
   ]
  },
  {
   "cell_type": "code",
   "execution_count": null,
   "id": "23fb9f4f-4852-4880-bf9c-f1f48b7c9329",
   "metadata": {},
   "outputs": [],
   "source": [
    "XX.info()"
   ]
  },
  {
   "cell_type": "code",
   "execution_count": null,
   "id": "b97388e7-f09c-4654-9071-c0feb1e01009",
   "metadata": {},
   "outputs": [],
   "source": []
  }
 ],
 "metadata": {
  "kernelspec": {
   "display_name": "Python 3 (ipykernel)",
   "language": "python",
   "name": "python3"
  },
  "language_info": {
   "codemirror_mode": {
    "name": "ipython",
    "version": 3
   },
   "file_extension": ".py",
   "mimetype": "text/x-python",
   "name": "python",
   "nbconvert_exporter": "python",
   "pygments_lexer": "ipython3",
   "version": "3.11.5"
  },
  "vscode": {
   "interpreter": {
    "hash": "b0fa6594d8f4cbf19f97940f81e996739fb7646882a419484c72d19e05852a7e"
   }
  }
 },
 "nbformat": 4,
 "nbformat_minor": 5
}
